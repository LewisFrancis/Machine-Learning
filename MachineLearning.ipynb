{
  "nbformat": 4,
  "nbformat_minor": 0,
  "metadata": {
    "colab": {
      "provenance": []
    },
    "kernelspec": {
      "name": "python3",
      "display_name": "Python 3"
    },
    "language_info": {
      "name": "python"
    }
  },
  "cells": [
    {
      "cell_type": "code",
      "source": [
        "from google.colab import drive\n",
        "drive.mount('/content/drive')"
      ],
      "metadata": {
        "id": "osI3Xzdlq0cR",
        "colab": {
          "base_uri": "https://localhost:8080/"
        },
        "outputId": "6c962833-2520-49e2-e25e-471a83dfa796"
      },
      "execution_count": 1,
      "outputs": [
        {
          "output_type": "stream",
          "name": "stdout",
          "text": [
            "Mounted at /content/drive\n"
          ]
        }
      ]
    },
    {
      "cell_type": "markdown",
      "metadata": {
        "id": "Xcnw6BYaoTBl"
      },
      "source": [
        "# Data preparation"
      ]
    },
    {
      "cell_type": "code",
      "execution_count": null,
      "metadata": {
        "id": "4UmkWONVAeep"
      },
      "outputs": [],
      "source": [
        "import numpy as np\n",
        "import pandas as pd\n",
        "import matplotlib.pyplot as plt\n",
        "import seaborn as sns\n",
        "import plotly.express as px\n",
        "\n",
        "## ignore useless warnings\n",
        "import warnings\n",
        "warnings.filterwarnings(action='ignore')\n",
        "pd.options.display.max_seq_items=8000\n",
        "pd.options.display.max_rows = 8000"
      ]
    },
    {
      "cell_type": "markdown",
      "metadata": {
        "id": "86p-3YQHAeet"
      },
      "source": [
        "## Import the dataset"
      ]
    },
    {
      "cell_type": "code",
      "execution_count": null,
      "metadata": {
        "id": "eOiWzRZEAeet"
      },
      "outputs": [],
      "source": [
        "# Loading the train set\n",
        "train = pd.read_csv('/content/drive/MyDrive/energy_dataset/train.csv')\n",
        "building = pd.read_csv('/content/drive/MyDrive/energy_dataset/building_metadata.csv')\n",
        "weather_train = pd.read_csv('/content/drive/MyDrive/energy_dataset/weather_train.csv')\n"
      ]
    },
    {
      "cell_type": "code",
      "source": [
        "# Loading test set\n",
        "test_data = pd.read_csv('/content/drive/MyDrive/energy_dataset/test.csv') \n",
        "weather_test_data = pd.read_csv('/content/drive/MyDrive/energy_dataset/weather_test.csv') "
      ],
      "metadata": {
        "id": "5Nm23CtstHO1"
      },
      "execution_count": null,
      "outputs": []
    },
    {
      "cell_type": "code",
      "execution_count": null,
      "metadata": {
        "id": "QGLPnDGPAeeu",
        "colab": {
          "base_uri": "https://localhost:8080/"
        },
        "outputId": "e7cbd5c6-2a5e-448a-945a-676e301a6b0b"
      },
      "outputs": [
        {
          "output_type": "stream",
          "name": "stdout",
          "text": [
            "Shape of train data: (20216100, 4)\n",
            "Shape of weather train data: (139773, 9)\n",
            "Shape of building meta data: (1449, 6)\n"
          ]
        }
      ],
      "source": [
        "# Shapes of the dataframes\n",
        "print('Shape of train data:',train.shape)\n",
        "print('Shape of weather train data:', weather_train.shape)\n",
        "print('Shape of building meta data:', building.shape)"
      ]
    },
    {
      "cell_type": "code",
      "execution_count": null,
      "metadata": {
        "id": "UeZ5tcaZAeev"
      },
      "outputs": [],
      "source": [
        "#https://www.kaggle.com/kernels/scriptcontent/3684066/download\n",
        "# WE MAY USE THIS FUNCTION TO REDUCE MEMORY USEAGE\n",
        "\n",
        "from pandas.api.types import is_datetime64_any_dtype as is_datetime\n",
        "from pandas.api.types import is_categorical_dtype\n",
        "\n",
        "def reduce_mem_usage(df, use_float16=False):\n",
        "    \"\"\" iterate through all the columns of a dataframe and modify the data type\n",
        "        to reduce memory usage.        \n",
        "    \"\"\"\n",
        "    start_mem = df.memory_usage().sum() / 1024**2\n",
        "    print('Memory usage of dataframe is {:.2f} MB'.format(start_mem))\n",
        "    \n",
        "    #iterating over every column and finding the type of the column\n",
        "    for col in df.columns:\n",
        "      if is_datetime(df[col]) or is_categorical_dtype(df[col]):\n",
        "            continue\n",
        "      col_type = df[col].dtype\n",
        "        \n",
        "        #If the columns is not object\n",
        "      if col_type != object:\n",
        "          #Get the minimum and maximum value\n",
        "            c_min = df[col].min()\n",
        "            c_max = df[col].max()\n",
        "            #If the type is int\n",
        "            if str(col_type)[:3] == 'int':\n",
        "              #If the min max values lies with thin the range of int8 type then assign the type as int8\n",
        "                if c_min > np.iinfo(np.int8).min and c_max < np.iinfo(np.int8).max:\n",
        "                    df[col] = df[col].astype(np.int8)\n",
        "              #If the min max values lies with thin the range of int16 type then assign the type as int16 \n",
        "                elif c_min > np.iinfo(np.int16).min and c_max < np.iinfo(np.int16).max:\n",
        "                    df[col] = df[col].astype(np.int16)\n",
        "              #If the min max values lies with thin the range of int32 type then assign the type as int32\n",
        "                elif c_min > np.iinfo(np.int32).min and c_max < np.iinfo(np.int32).max:\n",
        "                    df[col] = df[col].astype(np.int32)\n",
        "              #If the min max values lies with thin the range of int64 type then assign the type as int64\n",
        "                elif c_min > np.iinfo(np.int64).min and c_max < np.iinfo(np.int64).max:\n",
        "                    df[col] = df[col].astype(np.int64)  \n",
        "            else:\n",
        "              #If the min max values lies with thin the range of float16 type then assign the type as float16\n",
        "                if c_min > np.finfo(np.float16).min and c_max < np.finfo(np.float16).max:\n",
        "                    df[col] = df[col].astype(np.float16)\n",
        "              #If the min max values lies with thin the range of float32 type then assign the type as float32\n",
        "                elif c_min > np.finfo(np.float32).min and c_max < np.finfo(np.float32).max:\n",
        "                    df[col] = df[col].astype(np.float32)\n",
        "                else:\n",
        "                    df[col] = df[col].astype(np.float64)\n",
        "      else:\n",
        "            df[col] = df[col].astype('category')\n",
        "\n",
        "    end_mem = df.memory_usage().sum() / 1024**2\n",
        "    print('Memory usage after optimization is: {:.2f} MB'.format(end_mem))\n",
        "    print('Decreased by {:.1f}%'.format(100 * (start_mem - end_mem) / start_mem))\n",
        "    \n",
        "    return df"
      ]
    },
    {
      "cell_type": "code",
      "execution_count": null,
      "metadata": {
        "id": "3PJ9w7m4Aeew",
        "colab": {
          "base_uri": "https://localhost:8080/"
        },
        "outputId": "57de879d-3a9d-4b42-e31b-105e5926f0a5"
      },
      "outputs": [
        {
          "output_type": "stream",
          "name": "stdout",
          "text": [
            "Memory usage of dataframe is 616.95 MB\n",
            "Memory usage after optimization is: 173.84 MB\n",
            "Decreased by 71.8%\n",
            "Memory usage of dataframe is 0.07 MB\n",
            "Memory usage after optimization is: 0.02 MB\n",
            "Decreased by 73.9%\n",
            "Memory usage of dataframe is 9.60 MB\n",
            "Memory usage after optimization is: 2.59 MB\n",
            "Decreased by 73.1%\n"
          ]
        }
      ],
      "source": [
        "# Memory reduce\n",
        "train = reduce_mem_usage(train)\n",
        "building = reduce_mem_usage(building)\n",
        "weather_train=reduce_mem_usage(weather_train)\n",
        "\n",
        "test = reduce_mem_usage(test)\n",
        "weather_test = reduce_mem_usage(weather_test)"
      ]
    },
    {
      "cell_type": "code",
      "source": [
        "test_data = reduce_mem_usage(test_data, 'Test Data')\n",
        "weather_test_data = reduce_mem_usage(weather_test_data, 'Weather Test Data')"
      ],
      "metadata": {
        "id": "xvqmixsAtbB_"
      },
      "execution_count": null,
      "outputs": []
    },
    {
      "cell_type": "markdown",
      "metadata": {
        "id": "4faskHvMAeew"
      },
      "source": [
        "## Combining the datasets"
      ]
    },
    {
      "cell_type": "code",
      "execution_count": null,
      "metadata": {
        "id": "8ONWfe-gAeex"
      },
      "outputs": [],
      "source": [
        "#We will combine the all the data for train set in a single dataframe and test set in another dataframe\n",
        "# Merging train set\n",
        "train_df = train.merge(building, on='building_id', how='left')\n",
        "train_df = train_df.merge(weather_train, on=['site_id', 'timestamp'], how='left')"
      ]
    },
    {
      "cell_type": "code",
      "source": [
        "# Merging test set\n",
        "test_df = test_data.merge(building, on='building_id', how='left')\n",
        "test_df = test_df.merge(weather_test_data, on=['site_id', 'timestamp'], how='left')"
      ],
      "metadata": {
        "id": "qTtJ1LRuCcJA"
      },
      "execution_count": null,
      "outputs": []
    },
    {
      "cell_type": "markdown",
      "metadata": {
        "id": "TZOE-HKGAeex"
      },
      "source": [
        "## Correct the unit"
      ]
    },
    {
      "cell_type": "code",
      "execution_count": null,
      "metadata": {
        "id": "4KHqBgPMUpIY"
      },
      "outputs": [],
      "source": [
        "# the electric meter readings for site 0 were not properly converted to units of kWh and are in kBTU (over 900k rows)\n",
        "# Multiply by 0.2931 to get to model inputs into kWh like the other sites, and 3.4118 to get back to kBTU for scoring.\n",
        "# DO NOT RUN THIS CELL TWICE!\n",
        "train_df.loc[(train_df['site_id'] == 0) & (train_df['meter'] == 0), 'meter_reading'] = train_df[(train_df['site_id'] == 0) & (train_df['meter'] == 0)]['meter_reading'] * 0.2931"
      ]
    },
    {
      "cell_type": "markdown",
      "metadata": {
        "id": "O8agE2QTAeey"
      },
      "source": [
        "## Break the datatime into day, month"
      ]
    },
    {
      "cell_type": "code",
      "execution_count": null,
      "metadata": {
        "id": "XyEgsthVhkuO"
      },
      "outputs": [],
      "source": [
        "# We will break the timestamp into hour of the day, day of week, month and the year.\n",
        "# Maybe the timestamp column should be drop during training stage.\n",
        "\n",
        "def break_datetime(df):\n",
        "  df['timestamp']= pd.to_datetime(df['timestamp'])\n",
        "  df['hour']= np.uint8(df['timestamp'].dt.hour)\n",
        "  df['dayofweek']= np.uint8(df['timestamp'].dt.dayofweek)\n",
        "  df['month']= np.uint8(df['timestamp'].dt.month)\n",
        "  df['dayofyear']= np.uint16(df['timestamp'].dt.dayofyear)\n",
        "  df['day']= np.uint16(df['timestamp'].dt.day) #day of month\n",
        "  df['year']= np.uint16(df['timestamp'].dt.year)\n",
        "  return df"
      ]
    },
    {
      "cell_type": "code",
      "execution_count": null,
      "metadata": {
        "id": "TmEuqyr4horJ"
      },
      "outputs": [],
      "source": [
        "train_df = break_datetime(train_df)"
      ]
    },
    {
      "cell_type": "code",
      "source": [
        "test_df = break_datetime(test_df)"
      ],
      "metadata": {
        "id": "AhYLS1MQGLGT"
      },
      "execution_count": null,
      "outputs": []
    },
    {
      "cell_type": "markdown",
      "metadata": {
        "id": "XtJe6d787Q-V"
      },
      "source": [
        "## **Pipeline**\n"
      ]
    },
    {
      "cell_type": "code",
      "source": [
        "test = test.drop([\"row_id\"],axis = 1)"
      ],
      "metadata": {
        "id": "3c_YXuOcYXDu"
      },
      "execution_count": null,
      "outputs": []
    },
    {
      "cell_type": "code",
      "execution_count": null,
      "metadata": {
        "id": "_VBb4P5k8CqK"
      },
      "outputs": [],
      "source": [
        "# ###  PIPELINE CODE####\n",
        "\n",
        "from imblearn.pipeline import Pipeline as imbPipeline\n",
        "from sklearn.impute import SimpleImputer\n",
        "from sklearn.preprocessing import OneHotEncoder, MinMaxScaler, StandardScaler, OrdinalEncoder, LabelEncoder\n",
        "from sklearn.compose import ColumnTransformer\n",
        "\n",
        "\n",
        "# # transformer for categorical features - primary_use, season, Building_id, meter, site_id\n",
        "categorical_features = ['building_id', 'meter']\n",
        "\n",
        "categorical_transformer = imbPipeline(\n",
        "   [        \n",
        "     ('onehot', OneHotEncoder(handle_unknown = 'ignore'))\n",
        "   ]\n",
        ")\n",
        "\n",
        "# # transformer for ordinal categorical features \n",
        "categorical_features_lab = [  'hour', 'dayofweek', 'dayofyear',\n",
        "                       'isDayTime']          \n",
        "\n",
        "categorical_transformer_lab = imbPipeline(\n",
        "   [        \n",
        "        #('imputer_cat', SimpleImputer(strategy = 'most_frequent')),\n",
        "        ('label', OrdinalEncoder())\n",
        "   ]\n",
        ")    \n",
        "\n",
        "# # transformer for numerical features - Timestamp not included so will be dropped\n",
        "numeric_features = [ 'square_feet', 'air_temperature'] \n",
        "     \n",
        "numeric_transformer = imbPipeline(\n",
        "   [\n",
        "       # ('imputer_num', SimpleImputer(strategy = 'median')),\n",
        "        ('scaler', StandardScaler())   # standard scaling of the numerical features\n",
        "   ]\n",
        ")\n",
        "\n",
        "# # combine them in a single ColumnTransformer\n",
        "preprocessor = ColumnTransformer(\n",
        "   [\n",
        "       ('categoricals', categorical_transformer, categorical_features),\n",
        "       ('labels', categorical_transformer_lab, categorical_features_lab),\n",
        "       ('numericals', numeric_transformer, numeric_features)], \n",
        "       remainder = 'drop'         # Ensures that the features not specifically named are dropped\n",
        ")"
      ]
    },
    {
      "cell_type": "code",
      "execution_count": null,
      "metadata": {
        "colab": {
          "base_uri": "https://localhost:8080/"
        },
        "id": "n6gah1QwOUqd",
        "outputId": "769ab640-683c-42bd-aea2-32f3a1d90962"
      },
      "outputs": [
        {
          "data": {
            "text/plain": [
              "Pipeline(steps=[('preprocessing',\n",
              "                 ColumnTransformer(transformers=[('categoricals',\n",
              "                                                  Pipeline(steps=[('onehot',\n",
              "                                                                   OneHotEncoder(handle_unknown='ignore'))]),\n",
              "                                                  ['building_id', 'meter',\n",
              "                                                   'site_id', 'primary_use',\n",
              "                                                   'season']),\n",
              "                                                 ('labels',\n",
              "                                                  Pipeline(steps=[('label',\n",
              "                                                                   OrdinalEncoder())]),\n",
              "                                                  ['cloud_coverage',\n",
              "                                                   'wind_direction', 'hour',\n",
              "                                                   'dayofweek', 'month',\n",
              "                                                   'dayofyear', 'day',\n",
              "                                                   'isDayTime']),\n",
              "                                                 ('numericals',\n",
              "                                                  Pipeline(steps=[('scaler',\n",
              "                                                                   StandardScaler())]),\n",
              "                                                  ['square_feet',\n",
              "                                                   'air_temperature',\n",
              "                                                   'dew_temperature',\n",
              "                                                   'precip_depth_1_hr',\n",
              "                                                   'sea_level_pressure',\n",
              "                                                   'wind_speed',\n",
              "                                                   'meter_reading'])]))])"
            ]
          },
          "execution_count": 62,
          "metadata": {},
          "output_type": "execute_result"
        }
      ],
      "source": [
        "train_fit = imbPipeline(\n",
        "    [\n",
        "     ('preprocessing',preprocessor)\n",
        "    ]\n",
        ")\n",
        "train_fit.fit(train_df)"
      ]
    },
    {
      "cell_type": "code",
      "source": [
        "test_fit = imbPipeline(\n",
        "    [\n",
        "     ('preprocessing',preprocessor)\n",
        "    ]\n",
        ")\n",
        "test_fit.fit(test)"
      ],
      "metadata": {
        "colab": {
          "base_uri": "https://localhost:8080/"
        },
        "id": "JL1tgWJ2KVSf",
        "outputId": "3fbd4011-81b6-4608-f0c2-c1c479371c74"
      },
      "execution_count": null,
      "outputs": [
        {
          "output_type": "execute_result",
          "data": {
            "text/plain": [
              "Pipeline(steps=[('preprocessing',\n",
              "                 ColumnTransformer(transformers=[('categoricals',\n",
              "                                                  Pipeline(steps=[('onehot',\n",
              "                                                                   OneHotEncoder(handle_unknown='ignore'))]),\n",
              "                                                  ['building_id', 'meter']),\n",
              "                                                 ('labels',\n",
              "                                                  Pipeline(steps=[('label',\n",
              "                                                                   OrdinalEncoder())]),\n",
              "                                                  ['hour', 'dayofweek',\n",
              "                                                   'dayofyear', 'isDayTime']),\n",
              "                                                 ('numericals',\n",
              "                                                  Pipeline(steps=[('scaler',\n",
              "                                                                   StandardScaler())]),\n",
              "                                                  ['square_feet',\n",
              "                                                   'air_temperature'])]))])"
            ]
          },
          "metadata": {},
          "execution_count": 48
        }
      ]
    },
    {
      "cell_type": "markdown",
      "source": [
        "## **Preprocessing for Supervised Learning Models**\n"
      ],
      "metadata": {
        "id": "RXa2EPemD9YP"
      }
    },
    {
      "cell_type": "code",
      "source": [
        "#Alternative for filling data- unsure of the features used and the use of mean- discuss in meeting\n",
        "def nan_fillers(df):\n",
        "   air_temp_df=df.groupby(['site_id', 'day', 'month'])['air_temperature'].transform('mean')\n",
        "   df['air_temperature'].fillna(air_temp_df, inplace=True)\n",
        "\n",
        "   dew_temp_df=df.groupby(['site_id', 'day', 'month'])['dew_temperature'].transform('mean')\n",
        "   df['dew_temperature'].fillna(dew_temp_df, inplace=True)\n",
        "\n",
        "   #cloud_df=df.groupby(['site_id', 'day', 'month'])['cloud_coverage'].transform('median')\n",
        "   #df['cloud_coverage'].fillna(cloud_df, inplace=True)\n",
        "\n",
        "   #sea_level_df=df.groupby(['site_id', 'day', 'month'])['sea_level_pressure'].transform('median')\n",
        "   #df['sea_level_pressure'].fillna(sea_level_df, inplace=True)\n",
        "\n",
        "   #precip_df=df.groupby(['site_id', 'day', 'month'])['precip_depth_1_hr'].transform('median')\n",
        "   #\n",
        "   #df['precip_depth_1_hr'].fillna(precip_df, inplace=True)\n",
        "\n",
        "   wind_dir_df=df.groupby(['site_id', 'day', 'month'])['wind_direction'].transform('mean')\n",
        "   df['wind_direction'].fillna(wind_dir_df, inplace=True)\n",
        "\n",
        "   wind_speed_df=df.groupby(['site_id', 'day', 'month'])['wind_speed'].transform('mean')\n",
        "   df['wind_speed'].fillna(wind_speed_df, inplace=True)\n",
        "\n",
        "\n",
        "   return df\n",
        "\n",
        "train_df = nan_fillers(train_df) # this does not deal with the three features listed below\n",
        "train_df['cloud_coverage'].fillna(train_df['cloud_coverage'].median(), inplace=True)\n",
        "train_df['precip_depth_1_hr'].fillna(train_df['precip_depth_1_hr'].median(), inplace=True)\n",
        "train_df['sea_level_pressure'].fillna(train_df['sea_level_pressure'].median(), inplace=True)\n",
        "train_df.isnull().sum()"
      ],
      "metadata": {
        "colab": {
          "base_uri": "https://localhost:8080/"
        },
        "id": "ZvUfOXnPz0L9",
        "outputId": "f646cbcd-2976-4db3-c1f4-5c57b7124ba3"
      },
      "execution_count": null,
      "outputs": [
        {
          "output_type": "execute_result",
          "data": {
            "text/plain": [
              "building_id           0\n",
              "meter                 0\n",
              "timestamp             0\n",
              "meter_reading         0\n",
              "site_id               0\n",
              "primary_use           0\n",
              "square_feet           0\n",
              "air_temperature       0\n",
              "cloud_coverage        0\n",
              "dew_temperature       0\n",
              "precip_depth_1_hr     0\n",
              "sea_level_pressure    0\n",
              "wind_direction        0\n",
              "wind_speed            0\n",
              "hour                  0\n",
              "dayofweek             0\n",
              "month                 0\n",
              "dayofyear             0\n",
              "day                   0\n",
              "meter_reading_log     0\n",
              "season                0\n",
              "isDayTime             0\n",
              "city                  0\n",
              "country               0\n",
              "dtype: int64"
            ]
          },
          "metadata": {},
          "execution_count": 66
        }
      ]
    },
    {
      "cell_type": "code",
      "execution_count": null,
      "metadata": {
        "id": "rt76EM1VHBQh"
      },
      "outputs": [],
      "source": [
        "test_df = nan_fillers(test_df) # this does not deal with the three features listed below\n",
        "test_df['cloud_coverage'].fillna(test_df['cloud_coverage'].median(), inplace=True)\n",
        "test_df['precip_depth_1_hr'].fillna(test_df['precip_depth_1_hr'].median(), inplace=True)\n",
        "test_df['sea_level_pressure'].fillna(test_df['sea_level_pressure'].median(), inplace=True)\n",
        "test.isnull().sum()"
      ]
    },
    {
      "cell_type": "code",
      "source": [
        "# Encode categorical data\n",
        "categorical_features = ['primary_use', 'season']\n",
        "encoder = preprocessing.LabelEncoder()\n",
        "\n",
        "for i in categorical_features:\n",
        "  train[i] = encoder.fit_transform(train[i])\n",
        "  test[i] = encoder.fit_transform(test[i])"
      ],
      "metadata": {
        "id": "ItzzJ7aJWq2d"
      },
      "execution_count": null,
      "outputs": []
    },
    {
      "cell_type": "code",
      "source": [
        "# Remove timestamp\n",
        "train = train.drop(['timestamp'], axis = 1)\n",
        "test = test.drop(['timestamp'], axis = 1)"
      ],
      "metadata": {
        "id": "dR3_0oD_Nttj"
      },
      "execution_count": null,
      "outputs": []
    },
    {
      "cell_type": "code",
      "source": [
        "# Reduce memory usage (again)\n",
        "reduced_train_data = reduce_mem_usage(train_df, 'Train Data')\n",
        "reduced_test_data = reduce_mem_usage(test_df, 'Test Data')"
      ],
      "metadata": {
        "id": "0Fcjztm1N5j0"
      },
      "execution_count": null,
      "outputs": []
    },
    {
      "cell_type": "code",
      "source": [
        "# Remove least important features generated by feature selection\n",
        "train_data = reduced_train_data[['building_id','square_feet','meter','air_temperature','dayofyear','hour','isDayTime','dayofweek', 'meter_reading']]\n",
        "test = reduced_test_data[['building_id','square_feet','meter','air_temperature','dayofyear','hour','isDayTime','dayofweek']]"
      ],
      "metadata": {
        "id": "BNaLV5StOWPj"
      },
      "execution_count": null,
      "outputs": []
    },
    {
      "cell_type": "code",
      "source": [
        "from sklearn.model_selection  import train_test_split\n",
        "from sklearn.pipeline import Pipeline\n",
        "\n",
        "x_train, x_val, y_train, y_val = train_test_split(X,y, test_size = 0.2, random_state= 45)"
      ],
      "metadata": {
        "id": "csVK7CxQve7G"
      },
      "execution_count": null,
      "outputs": []
    },
    {
      "cell_type": "markdown",
      "metadata": {
        "id": "OYcNWLxu03SE"
      },
      "source": [
        "##KNN Implementation"
      ]
    },
    {
      "cell_type": "markdown",
      "metadata": {
        "id": "JoZ-HHi5epp9"
      },
      "source": [
        "###KNN Hyperparameter"
      ]
    },
    {
      "cell_type": "code",
      "execution_count": null,
      "metadata": {
        "colab": {
          "base_uri": "https://localhost:8080/"
        },
        "outputId": "a3cb373e-96f4-46ae-d5eb-4be699502399",
        "id": "9uyO1Pbmepp-"
      },
      "outputs": [
        {
          "output_type": "stream",
          "name": "stdout",
          "text": [
            "1\n"
          ]
        },
        {
          "output_type": "execute_result",
          "data": {
            "text/plain": [
              "10"
            ]
          },
          "metadata": {},
          "execution_count": 47
        }
      ],
      "source": [
        "from sklearn.pipeline import Pipeline\n",
        "from sklearn.metrics import accuracy_score\n",
        "from sklearn.neighbors import KNeighborsClassifier\n",
        "\n",
        "test_accuracy=[]\n",
        "n_estimator = range(10,50,10)\n",
        "clock = 0\n",
        "for n in n_estimator:\n",
        "  clock = clock+1\n",
        "  KNN_test = Pipeline(\n",
        "      [('preprocessing',preprocessor),\n",
        "       ('classifier', KNeighborsClassifier(n_neighbors= n))\n",
        "       ]   \n",
        "  )\n",
        "  KNN_test.fit(x_train, y_train)\n",
        "  print(clock)\n",
        "  y_hat = KNN_test.predict(x_val)\n",
        "  test_accuracy.append(accuracy_score(y_val,y_hat))\n",
        "index_n = test_accuracy.index(max(test_accuracy))\n",
        "optimum_n = n_estimator[index_n]\n",
        "optimum_n\n",
        "#optimum_n = 10"
      ]
    },
    {
      "cell_type": "markdown",
      "source": [
        "###KNN Regression Model"
      ],
      "metadata": {
        "id": "wcgz5xcj-HWp"
      }
    },
    {
      "cell_type": "code",
      "source": [
        "from sklearn.neighbors import KNeighborsRegressor\n",
        "KNN_clf = Pipeline(\n",
        "    [\n",
        "     ('classifier', KNeighborsRegressor(n_neighbors=10))\n",
        "    ]\n",
        ")\n",
        "KNN_clf.fit(x_train, y_train)\n"
      ],
      "metadata": {
        "colab": {
          "base_uri": "https://localhost:8080/"
        },
        "id": "By3GmoF294cl",
        "outputId": "10dd9c52-47cd-441b-aace-75d072c80226"
      },
      "execution_count": null,
      "outputs": [
        {
          "output_type": "execute_result",
          "data": {
            "text/plain": [
              "Pipeline(steps=[('classifier', KNeighborsRegressor(n_neighbors=10))])"
            ]
          },
          "metadata": {},
          "execution_count": 20
        }
      ]
    },
    {
      "cell_type": "code",
      "source": [
        "knnPred = []"
      ],
      "metadata": {
        "id": "uW9Gqmo21L_e"
      },
      "execution_count": null,
      "outputs": []
    },
    {
      "cell_type": "code",
      "source": [
        "steps = np.arange(0,len(test),10000)\n"
      ],
      "metadata": {
        "id": "i2zXYT_Q1Otf"
      },
      "execution_count": null,
      "outputs": []
    },
    {
      "cell_type": "code",
      "source": [
        "for i in steps:\n",
        "  test_samp = test[i:i+10000]\n",
        "  knnPred.append(KNN_clf.predict(test_samp))"
      ],
      "metadata": {
        "id": "ymMbGoeG1WBH"
      },
      "execution_count": null,
      "outputs": []
    },
    {
      "cell_type": "code",
      "source": [
        "knnPredArray = np.concatenate((knnPred),axis=0)"
      ],
      "metadata": {
        "id": "o7GxrkGu6Cg4"
      },
      "execution_count": null,
      "outputs": []
    },
    {
      "cell_type": "code",
      "source": [
        "KNN_preddf = pd.DataFrame(knnPredArray, columns = [\"meter_reading\"])\n",
        "KNN_preddf.insert(0, \"row_id\",test[\"index\"])"
      ],
      "metadata": {
        "id": "_TsREewShcsw"
      },
      "execution_count": null,
      "outputs": []
    },
    {
      "cell_type": "code",
      "source": [
        "KNN_preddf = KNN_preddf.astype({'row_id':'int32'})\n",
        "KNN_preddf = KNN_preddf.astype({'meter_reading':'float32'})"
      ],
      "metadata": {
        "id": "p2zE60_rhn1A"
      },
      "execution_count": null,
      "outputs": []
    },
    {
      "cell_type": "code",
      "source": [
        "KNN_preddf"
      ],
      "metadata": {
        "colab": {
          "base_uri": "https://localhost:8080/",
          "height": 423
        },
        "id": "ptG-CXL-h6Rq",
        "outputId": "7cc374a9-59b4-4d36-cd2c-29377033b4bc"
      },
      "execution_count": null,
      "outputs": [
        {
          "output_type": "execute_result",
          "data": {
            "text/plain": [
              "            row_id  meter_reading\n",
              "0                0       3.750000\n",
              "1                1       3.750000\n",
              "2                2       3.750000\n",
              "3                3       3.750000\n",
              "4                4       3.750000\n",
              "...            ...            ...\n",
              "41697595  41697595       2.421875\n",
              "41697596  41697596       2.421875\n",
              "41697597  41697597       2.421875\n",
              "41697598  41697598       2.421875\n",
              "41697599  41697599       2.421875\n",
              "\n",
              "[41697600 rows x 2 columns]"
            ],
            "text/html": [
              "\n",
              "  <div id=\"df-bec23b65-753f-4e64-b2ae-9ae147cbabab\">\n",
              "    <div class=\"colab-df-container\">\n",
              "      <div>\n",
              "<style scoped>\n",
              "    .dataframe tbody tr th:only-of-type {\n",
              "        vertical-align: middle;\n",
              "    }\n",
              "\n",
              "    .dataframe tbody tr th {\n",
              "        vertical-align: top;\n",
              "    }\n",
              "\n",
              "    .dataframe thead th {\n",
              "        text-align: right;\n",
              "    }\n",
              "</style>\n",
              "<table border=\"1\" class=\"dataframe\">\n",
              "  <thead>\n",
              "    <tr style=\"text-align: right;\">\n",
              "      <th></th>\n",
              "      <th>row_id</th>\n",
              "      <th>meter_reading</th>\n",
              "    </tr>\n",
              "  </thead>\n",
              "  <tbody>\n",
              "    <tr>\n",
              "      <th>0</th>\n",
              "      <td>0</td>\n",
              "      <td>3.750000</td>\n",
              "    </tr>\n",
              "    <tr>\n",
              "      <th>1</th>\n",
              "      <td>1</td>\n",
              "      <td>3.750000</td>\n",
              "    </tr>\n",
              "    <tr>\n",
              "      <th>2</th>\n",
              "      <td>2</td>\n",
              "      <td>3.750000</td>\n",
              "    </tr>\n",
              "    <tr>\n",
              "      <th>3</th>\n",
              "      <td>3</td>\n",
              "      <td>3.750000</td>\n",
              "    </tr>\n",
              "    <tr>\n",
              "      <th>4</th>\n",
              "      <td>4</td>\n",
              "      <td>3.750000</td>\n",
              "    </tr>\n",
              "    <tr>\n",
              "      <th>...</th>\n",
              "      <td>...</td>\n",
              "      <td>...</td>\n",
              "    </tr>\n",
              "    <tr>\n",
              "      <th>41697595</th>\n",
              "      <td>41697595</td>\n",
              "      <td>2.421875</td>\n",
              "    </tr>\n",
              "    <tr>\n",
              "      <th>41697596</th>\n",
              "      <td>41697596</td>\n",
              "      <td>2.421875</td>\n",
              "    </tr>\n",
              "    <tr>\n",
              "      <th>41697597</th>\n",
              "      <td>41697597</td>\n",
              "      <td>2.421875</td>\n",
              "    </tr>\n",
              "    <tr>\n",
              "      <th>41697598</th>\n",
              "      <td>41697598</td>\n",
              "      <td>2.421875</td>\n",
              "    </tr>\n",
              "    <tr>\n",
              "      <th>41697599</th>\n",
              "      <td>41697599</td>\n",
              "      <td>2.421875</td>\n",
              "    </tr>\n",
              "  </tbody>\n",
              "</table>\n",
              "<p>41697600 rows × 2 columns</p>\n",
              "</div>\n",
              "      <button class=\"colab-df-convert\" onclick=\"convertToInteractive('df-bec23b65-753f-4e64-b2ae-9ae147cbabab')\"\n",
              "              title=\"Convert this dataframe to an interactive table.\"\n",
              "              style=\"display:none;\">\n",
              "        \n",
              "  <svg xmlns=\"http://www.w3.org/2000/svg\" height=\"24px\"viewBox=\"0 0 24 24\"\n",
              "       width=\"24px\">\n",
              "    <path d=\"M0 0h24v24H0V0z\" fill=\"none\"/>\n",
              "    <path d=\"M18.56 5.44l.94 2.06.94-2.06 2.06-.94-2.06-.94-.94-2.06-.94 2.06-2.06.94zm-11 1L8.5 8.5l.94-2.06 2.06-.94-2.06-.94L8.5 2.5l-.94 2.06-2.06.94zm10 10l.94 2.06.94-2.06 2.06-.94-2.06-.94-.94-2.06-.94 2.06-2.06.94z\"/><path d=\"M17.41 7.96l-1.37-1.37c-.4-.4-.92-.59-1.43-.59-.52 0-1.04.2-1.43.59L10.3 9.45l-7.72 7.72c-.78.78-.78 2.05 0 2.83L4 21.41c.39.39.9.59 1.41.59.51 0 1.02-.2 1.41-.59l7.78-7.78 2.81-2.81c.8-.78.8-2.07 0-2.86zM5.41 20L4 18.59l7.72-7.72 1.47 1.35L5.41 20z\"/>\n",
              "  </svg>\n",
              "      </button>\n",
              "      \n",
              "  <style>\n",
              "    .colab-df-container {\n",
              "      display:flex;\n",
              "      flex-wrap:wrap;\n",
              "      gap: 12px;\n",
              "    }\n",
              "\n",
              "    .colab-df-convert {\n",
              "      background-color: #E8F0FE;\n",
              "      border: none;\n",
              "      border-radius: 50%;\n",
              "      cursor: pointer;\n",
              "      display: none;\n",
              "      fill: #1967D2;\n",
              "      height: 32px;\n",
              "      padding: 0 0 0 0;\n",
              "      width: 32px;\n",
              "    }\n",
              "\n",
              "    .colab-df-convert:hover {\n",
              "      background-color: #E2EBFA;\n",
              "      box-shadow: 0px 1px 2px rgba(60, 64, 67, 0.3), 0px 1px 3px 1px rgba(60, 64, 67, 0.15);\n",
              "      fill: #174EA6;\n",
              "    }\n",
              "\n",
              "    [theme=dark] .colab-df-convert {\n",
              "      background-color: #3B4455;\n",
              "      fill: #D2E3FC;\n",
              "    }\n",
              "\n",
              "    [theme=dark] .colab-df-convert:hover {\n",
              "      background-color: #434B5C;\n",
              "      box-shadow: 0px 1px 3px 1px rgba(0, 0, 0, 0.15);\n",
              "      filter: drop-shadow(0px 1px 2px rgba(0, 0, 0, 0.3));\n",
              "      fill: #FFFFFF;\n",
              "    }\n",
              "  </style>\n",
              "\n",
              "      <script>\n",
              "        const buttonEl =\n",
              "          document.querySelector('#df-bec23b65-753f-4e64-b2ae-9ae147cbabab button.colab-df-convert');\n",
              "        buttonEl.style.display =\n",
              "          google.colab.kernel.accessAllowed ? 'block' : 'none';\n",
              "\n",
              "        async function convertToInteractive(key) {\n",
              "          const element = document.querySelector('#df-bec23b65-753f-4e64-b2ae-9ae147cbabab');\n",
              "          const dataTable =\n",
              "            await google.colab.kernel.invokeFunction('convertToInteractive',\n",
              "                                                     [key], {});\n",
              "          if (!dataTable) return;\n",
              "\n",
              "          const docLinkHtml = 'Like what you see? Visit the ' +\n",
              "            '<a target=\"_blank\" href=https://colab.research.google.com/notebooks/data_table.ipynb>data table notebook</a>'\n",
              "            + ' to learn more about interactive tables.';\n",
              "          element.innerHTML = '';\n",
              "          dataTable['output_type'] = 'display_data';\n",
              "          await google.colab.output.renderOutput(dataTable, element);\n",
              "          const docLink = document.createElement('div');\n",
              "          docLink.innerHTML = docLinkHtml;\n",
              "          element.appendChild(docLink);\n",
              "        }\n",
              "      </script>\n",
              "    </div>\n",
              "  </div>\n",
              "  "
            ]
          },
          "metadata": {},
          "execution_count": 35
        }
      ]
    },
    {
      "cell_type": "markdown",
      "source": [
        "Kaggle Score =  3.416"
      ],
      "metadata": {
        "id": "t4qaI4H707K7"
      }
    },
    {
      "cell_type": "markdown",
      "metadata": {
        "id": "-jRc0sUqkdlb"
      },
      "source": [
        "##Decision Tree Classifier"
      ]
    },
    {
      "cell_type": "markdown",
      "metadata": {
        "id": "kzoiZNTbg0mI"
      },
      "source": [
        "###DTree Hyperparameter"
      ]
    },
    {
      "cell_type": "code",
      "execution_count": null,
      "metadata": {
        "id": "E4wHFDIdbQlg",
        "colab": {
          "base_uri": "https://localhost:8080/"
        },
        "outputId": "b731994b-134f-4525-f798-9573b2259fb1"
      },
      "outputs": [
        {
          "output_type": "execute_result",
          "data": {
            "text/plain": [
              "110"
            ]
          },
          "metadata": {},
          "execution_count": 88
        }
      ],
      "source": [
        "from sklearn.tree import DecisionTreeClassifier\n",
        "\n",
        "test_accuracy=[]\n",
        "n_estimator = range(80,150,10)\n",
        "\n",
        "for n in n_estimator:\n",
        "  tree_clf = Pipeline(\n",
        "      [('preprocessing',preprocessor),\n",
        "       ('classifier', DecisionTreeClassifier(max_depth=n, random_state=10))\n",
        "       ]   \n",
        "  )\n",
        "  tree_clf.fit(x_train, y_train)\n",
        "  y_hat = tree_clf.predict(x_val)\n",
        "  test_accuracy.append(accuracy_score(y_val,y_hat))\n",
        "index_n = test_accuracy.index(max(test_accuracy))\n",
        "optimum_n = n_estimator[index_n]\n",
        "optimum_n\n",
        "#max_depth = 14 random_state = 10 optimal is 110 but this is not reasonable within the software limitations"
      ]
    },
    {
      "cell_type": "markdown",
      "source": [
        "###Decision Regression Model"
      ],
      "metadata": {
        "id": "Cl--akre-Q-O"
      }
    },
    {
      "cell_type": "code",
      "source": [
        "from sklearn.tree import DecisionTreeRegressor\n",
        "#start_time = time.time()\n",
        "tree_clf = Pipeline(\n",
        "    [\n",
        "     ('classifier', DecisionTreeRegressor(max_depth=14, random_state=10))\n",
        "    ]\n",
        ")\n",
        "\n",
        "tree_clf.fit(x_train, y_train)\n",
        "#print(\" %s seconds \" % (time.time() - start_time))\n",
        "#Eager Learner"
      ],
      "metadata": {
        "colab": {
          "base_uri": "https://localhost:8080/"
        },
        "id": "25VrD2EJxmzt",
        "outputId": "4771151e-1335-4a41-f7f0-e24c550803d2"
      },
      "execution_count": null,
      "outputs": [
        {
          "output_type": "execute_result",
          "data": {
            "text/plain": [
              "Pipeline(steps=[('classifier',\n",
              "                 DecisionTreeRegressor(max_depth=14, random_state=10))])"
            ]
          },
          "metadata": {},
          "execution_count": 9
        }
      ]
    },
    {
      "cell_type": "markdown",
      "metadata": {
        "id": "y-muMbyWlNoj"
      },
      "source": [
        "###prediction"
      ]
    },
    {
      "cell_type": "code",
      "source": [
        "tree_pred = tree_clf.predict(test)"
      ],
      "metadata": {
        "id": "boJs8ineyPQU"
      },
      "execution_count": null,
      "outputs": []
    },
    {
      "cell_type": "code",
      "source": [
        "arrayToList = tree_pred.tolist()"
      ],
      "metadata": {
        "id": "krJG1M0yFp-o"
      },
      "execution_count": null,
      "outputs": []
    },
    {
      "cell_type": "code",
      "source": [
        "tree_pred_df = pd.DataFrame()  "
      ],
      "metadata": {
        "id": "VFhrGNk6IERT"
      },
      "execution_count": null,
      "outputs": []
    },
    {
      "cell_type": "code",
      "source": [
        "tree_pred_df['meter_reading'] = arrayToList\n",
        "tree_pred_df.insert(0, \"row_id\",test[\"index\"])"
      ],
      "metadata": {
        "id": "cKQA2f_FHUtQ"
      },
      "execution_count": null,
      "outputs": []
    },
    {
      "cell_type": "code",
      "source": [
        "tree_pred_df = tree_pred_df.astype({'row_id':'int32'})\n",
        "tree_pred_df = tree_pred_df.astype({'meter_reading':'float32'})"
      ],
      "metadata": {
        "id": "AcpXZu-mUhFS"
      },
      "execution_count": null,
      "outputs": []
    },
    {
      "cell_type": "markdown",
      "source": [
        "Kaggle Score = 3.021"
      ],
      "metadata": {
        "id": "MHkO4MzR0_31"
      }
    }
  ]
}
